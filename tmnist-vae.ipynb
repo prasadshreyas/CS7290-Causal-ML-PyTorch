{
  "cells": [
    {
      "cell_type": "markdown",
      "source": [
        "# Variational Autoencoders - TMNIST dataset"
      ],
      "metadata": {
        "id": "fdYgtEQHKj_Y"
      }
    },
    {
      "cell_type": "code",
      "source": [
        "!pip3 install pyro_ppl"
      ],
      "metadata": {
        "id": "Ni0YB-vKYFSi",
        "outputId": "f9ead644-d14b-4715-9aab-b5832948989c",
        "colab": {
          "base_uri": "https://localhost:8080/"
        }
      },
      "execution_count": 145,
      "outputs": [
        {
          "output_type": "stream",
          "name": "stdout",
          "text": [
            "Looking in indexes: https://pypi.org/simple, https://us-python.pkg.dev/colab-wheels/public/simple/\n",
            "Requirement already satisfied: pyro_ppl in /usr/local/lib/python3.7/dist-packages (1.8.1)\n",
            "Requirement already satisfied: pyro-api>=0.1.1 in /usr/local/lib/python3.7/dist-packages (from pyro_ppl) (0.1.2)\n",
            "Requirement already satisfied: torch>=1.11.0 in /usr/local/lib/python3.7/dist-packages (from pyro_ppl) (1.11.0+cu113)\n",
            "Requirement already satisfied: tqdm>=4.36 in /usr/local/lib/python3.7/dist-packages (from pyro_ppl) (4.64.0)\n",
            "Requirement already satisfied: numpy>=1.7 in /usr/local/lib/python3.7/dist-packages (from pyro_ppl) (1.21.6)\n",
            "Requirement already satisfied: opt-einsum>=2.3.2 in /usr/local/lib/python3.7/dist-packages (from pyro_ppl) (3.3.0)\n",
            "Requirement already satisfied: typing-extensions in /usr/local/lib/python3.7/dist-packages (from torch>=1.11.0->pyro_ppl) (4.1.1)\n"
          ]
        }
      ]
    },
    {
      "cell_type": "code",
      "execution_count": 146,
      "metadata": {
        "id": "T0XMn_iAX_mW"
      },
      "outputs": [],
      "source": [
        "import torch\n",
        "import pandas as pd\n",
        "import numpy as np\n",
        "from torch.utils.data import Dataset, DataLoader\n",
        "from torchvision import transforms\n",
        "import os\n",
        "from torchvision.transforms import ToTensor, Lambda\n",
        "\n",
        "from pyro.contrib.examples.util import MNIST\n",
        "import torch.nn as nn\n",
        "import torchvision.transforms as transforms\n",
        "\n",
        "import pyro\n",
        "import pyro.distributions as dist\n",
        "import pyro.contrib.examples.util  # patches torchvision\n",
        "from pyro.infer import SVI, Trace_ELBO\n",
        "from pyro.optim import Adam\n"
      ]
    },
    {
      "cell_type": "code",
      "execution_count": 147,
      "metadata": {
        "id": "MJ8Elu1ZX_ma"
      },
      "outputs": [],
      "source": [
        "assert pyro.__version__.startswith('1.8.1') # make sure we have Pyro 1.8.1\n",
        "pyro.distributions.enable_validation(False) \n",
        "pyro.set_rng_seed(0) # make results reproducible\n",
        "# Enable smoke test - run the notebook cells on CI.\n",
        "smoke_test = 'CI' in os.environ "
      ]
    },
    {
      "cell_type": "code",
      "execution_count": 148,
      "metadata": {
        "id": "nBELjXP0X_ma"
      },
      "outputs": [],
      "source": [
        "\n",
        "class TMNISTDataset(Dataset):\n",
        "    '''\n",
        "    Typeface MNIST Dataset\n",
        "\n",
        "    Input: 'path/to/csv/file' (Required)\n",
        "    Output: torch.utils.data.Dataset\n",
        "    \n",
        "    '''\n",
        "    def __init__(self, csv_file, root_dir='', transform=None, target_transform = Lambda(lambda y: torch.zeros(\n",
        "    10, dtype=torch.float).scatter_(dim=0, index=torch.tensor(y), value=1))):\n",
        "        '''\n",
        "        Args: csv_file (string): Path to the csv file with annotations.    \n",
        "        '''\n",
        "        self.tmnist_frame = pd.read_csv(csv_file)\n",
        "        self.transform = transform\n",
        "        self.root_dir = root_dir\n",
        "        self.target_transform = target_transform\n",
        "    def __len__(self):\n",
        "        return len(self.tmnist_frame)\n",
        "    \n",
        "    def __getitem__(self, idx):\n",
        "        if torch.is_tensor(idx):\n",
        "            idx = idx.tolist()\n",
        "        \n",
        "        digits = self.tmnist_frame.iloc[idx, 2:]\n",
        "        digits = np.array([digits])\n",
        "        digits = digits.reshape(28,28)\n",
        "        digits = digits.astype('float32')\n",
        "        label = self.tmnist_frame.iloc[idx, 1]\n",
        "        label = np.array([label])\n",
        "        label = label.astype('int')\n",
        "\n",
        "        if self.transform:\n",
        "            digits = self.transform(digits)\n",
        "        return digits, int(label.squeeze())"
      ]
    },
    {
      "cell_type": "code",
      "execution_count": 149,
      "metadata": {
        "id": "XnLahn1KX_mb"
      },
      "outputs": [],
      "source": [
        "# for loading and batching TMNIST dataset\n",
        "def setup_data_loaders(batch_size=64, use_cuda=False): \n",
        "    root = './data'\n",
        "    download = True\n",
        "    trans = transforms.ToTensor()\n",
        "    \n",
        "    tmnist_dataset = TMNISTDataset(\"https://raw.githubusercontent.com/prasadshreyas/CS7290-Causal-ML-PyTorch/main/data/TMNIST/TMNIST_Data.csv\", transform= transforms.ToTensor() )\n",
        "    n = len(tmnist_dataset)\n",
        "\n",
        "    train_length = int(n*0.7)\n",
        "    test_length = n - train_length\n",
        "    train_set,test_set = torch.utils.data.random_split( dataset = tmnist_dataset, lengths = [train_length,test_length], generator=torch.Generator().manual_seed(42))\n",
        "    \n",
        "    kwargs = {'num_workers': 1, 'pin_memory': use_cuda}\n",
        "    train_loader = torch.utils.data.DataLoader(dataset=train_set,\n",
        "        batch_size=batch_size, shuffle=True, **kwargs)\n",
        "    test_loader = torch.utils.data.DataLoader(dataset=test_set,\n",
        "        batch_size=batch_size, shuffle=False, **kwargs)\n",
        "    return train_loader, test_loader"
      ]
    },
    {
      "cell_type": "code",
      "source": [
        "# for loading and batching MNIST dataset\n",
        "def setup_data_loaders(batch_size=128, use_cuda=False):\n",
        "    root = './data'\n",
        "    download = True\n",
        "    trans = transforms.ToTensor()\n",
        "    train_set = MNIST(root=root, train=True, transform=trans,\n",
        "                      download=download)\n",
        "    test_set = MNIST(root=root, train=False, transform=trans)\n",
        "\n",
        "    kwargs = {'num_workers': 1, 'pin_memory': use_cuda}\n",
        "    train_loader = torch.utils.data.DataLoader(dataset=train_set,\n",
        "        batch_size=batch_size, shuffle=True, **kwargs)\n",
        "    test_loader = torch.utils.data.DataLoader(dataset=test_set,\n",
        "        batch_size=batch_size, shuffle=False, **kwargs)\n",
        "    return train_loader, test_loader"
      ],
      "metadata": {
        "id": "l68yR0tY_NIZ"
      },
      "execution_count": 150,
      "outputs": []
    },
    {
      "cell_type": "code",
      "execution_count": 151,
      "metadata": {
        "id": "bvm31fF4X_mc"
      },
      "outputs": [],
      "source": [
        "class Encoder(nn.Module):\n",
        "    def __init__(self, z_dim, hidden_dim):\n",
        "        super().__init__()\n",
        "        # setup the three linear transformations used\n",
        "        self.fc1 = nn.Linear(784, hidden_dim)\n",
        "        self.fc21 = nn.Linear(hidden_dim, z_dim)\n",
        "        self.fc22 = nn.Linear(hidden_dim, z_dim)\n",
        "        # setup the non-linearities\n",
        "        self.softplus = nn.Softplus()\n",
        "\n",
        "    def forward(self, x):\n",
        "        # define the forward computation on the image x\n",
        "        # first shape the mini-batch to have pixels in the rightmost dimension\n",
        "        x = x.reshape(-1, 784)\n",
        "        # then compute the hidden units\n",
        "        hidden = self.softplus(self.fc1(x))\n",
        "        # then return a mean vector and a (positive) square root covariance\n",
        "        # each of size batch_size x z_dim\n",
        "        z_loc = self.fc21(hidden)\n",
        "        z_scale = torch.exp(self.fc22(hidden))\n",
        "        return z_loc, z_scale"
      ]
    },
    {
      "cell_type": "code",
      "execution_count": 152,
      "metadata": {
        "id": "yAYjLyS1X_md"
      },
      "outputs": [],
      "source": [
        "class Decoder(nn.Module):\n",
        "    def __init__(self, z_dim, hidden_dim):\n",
        "        super().__init__()\n",
        "        # setup the two linear transformations used\n",
        "        self.fc1 = nn.Linear(z_dim, hidden_dim)\n",
        "        self.fc21 = nn.Linear(hidden_dim, 784)\n",
        "        # setup the non-linearities\n",
        "        self.softplus = nn.Softplus()\n",
        "        self.sigmoid = nn.Sigmoid()\n",
        "\n",
        "    def forward(self, z):\n",
        "        # define the forward computation on the latent z\n",
        "        # first compute the hidden units\n",
        "        hidden = self.softplus(self.fc1(z))\n",
        "        # return the parameter for the output Bernoulli\n",
        "        # each is of size batch_size x 784\n",
        "        loc_img = self.sigmoid(self.fc21(hidden))\n",
        "        return loc_img"
      ]
    },
    {
      "cell_type": "code",
      "execution_count": 153,
      "metadata": {
        "id": "SlrZr826X_me"
      },
      "outputs": [],
      "source": [
        "# define the model p(x|z)p(z)\n",
        "def model(self, x):\n",
        "    # register PyTorch module `decoder` with Pyro\n",
        "    pyro.module(\"decoder\", self.decoder)\n",
        "    with pyro.plate(\"data\", x.shape[0]):\n",
        "        # setup hyperparameters for prior p(z)\n",
        "        z_loc = x.new_zeros(torch.Size((x.shape[0], self.z_dim)))\n",
        "        z_scale = x.new_ones(torch.Size((x.shape[0], self.z_dim)))\n",
        "        # sample from prior (value will be sampled by guide when computing the ELBO)\n",
        "        z = pyro.sample(\"latent\", dist.Normal(z_loc, z_scale).to_event(1))\n",
        "\n",
        "\n",
        "        # decode the latent code z\n",
        "        loc_img = self.decoder(z)\n",
        "        # score against actual images\n",
        "        pyro.sample(\"obs\", dist.Bernoulli(loc_img).to_event(1), obs=x.reshape(-1, 784))\n",
        "\n"
      ]
    },
    {
      "cell_type": "code",
      "execution_count": 154,
      "metadata": {
        "id": "Dqb8OQbBX_mf"
      },
      "outputs": [],
      "source": [
        "# define the guide (i.e. variational distribution) q(z|x)\n",
        "def guide(self, x):\n",
        "    # register PyTorch module `encoder` with Pyro\n",
        "    pyro.module(\"encoder\", self.encoder)\n",
        "    with pyro.plate(\"data\", x.shape[0]):\n",
        "        # use the encoder to get the parameters used to define q(z|x)\n",
        "        z_loc, z_scale = self.encoder(x)\n",
        "        # sample the latent code z\n",
        "        pyro.sample(\"latent\", dist.Normal(z_loc, z_scale).to_event(1))\n",
        "\n"
      ]
    },
    {
      "cell_type": "code",
      "execution_count": 155,
      "metadata": {
        "id": "bsw4p_63X_mf"
      },
      "outputs": [],
      "source": [
        "class VAE(nn.Module):\n",
        "    # by default our latent space is 50-dimensional\n",
        "    # and we use 400 hidden units\n",
        "    def __init__(self, z_dim=50, hidden_dim=400, use_cuda=False):\n",
        "        super().__init__()\n",
        "        # create the encoder and decoder networks\n",
        "        self.encoder = Encoder(z_dim, hidden_dim)\n",
        "        self.decoder = Decoder(z_dim, hidden_dim)\n",
        "\n",
        "        if use_cuda:\n",
        "            # calling cuda() here will put all the parameters of\n",
        "            # the encoder and decoder networks into gpu memory\n",
        "            self.cuda()\n",
        "        self.use_cuda = use_cuda\n",
        "        self.z_dim = z_dim\n",
        "\n",
        "    # define the model p(x|z)p(z)\n",
        "    def model(self, x):\n",
        "        # register PyTorch module `decoder` with Pyro\n",
        "        pyro.module(\"decoder\", self.decoder)\n",
        "        with pyro.plate(\"data\", x.shape[0]):\n",
        "            # setup hyperparameters for prior p(z)\n",
        "            z_loc = x.new_zeros(torch.Size((x.shape[0], self.z_dim)))\n",
        "            z_scale = x.new_ones(torch.Size((x.shape[0], self.z_dim)))\n",
        "            # sample from prior (value will be sampled by guide when computing the ELBO)\n",
        "            z = pyro.sample(\"latent\", dist.Normal(z_loc, z_scale).to_event(1))\n",
        "            # decode the latent code z\n",
        "            loc_img = self.decoder(z)\n",
        "            # score against actual images\n",
        "            pyro.sample(\"obs\", dist.Bernoulli(loc_img).to_event(1), obs=x.reshape(-1, 784))\n",
        "\n",
        "    # define the guide (i.e. variational distribution) q(z|x)\n",
        "    def guide(self, x):\n",
        "        # register PyTorch module `encoder` with Pyro\n",
        "        pyro.module(\"encoder\", self.encoder)\n",
        "        with pyro.plate(\"data\", x.shape[0]):\n",
        "            # use the encoder to get the parameters used to define q(z|x)\n",
        "            z_loc, z_scale = self.encoder(x)\n",
        "            # sample the latent code z\n",
        "            pyro.sample(\"latent\", dist.Normal(z_loc, z_scale).to_event(1))\n",
        "\n",
        "    # define a helper function for reconstructing images\n",
        "    def reconstruct_img(self, x):\n",
        "        # encode image x\n",
        "        z_loc, z_scale = self.encoder(x)\n",
        "        # sample in latent space\n",
        "        z = dist.Normal(z_loc, z_scale).sample()\n",
        "        # decode the image (note we don't sample in image space)\n",
        "        loc_img = self.decoder(z)\n",
        "        return loc_img\n"
      ]
    },
    {
      "cell_type": "code",
      "execution_count": 156,
      "metadata": {
        "id": "U_SCP-f7X_mg"
      },
      "outputs": [],
      "source": [
        "vae = VAE()\n",
        "optimizer = Adam({\"lr\": 1.0e-3})\n",
        "svi = SVI(vae.model, vae.guide, optimizer, loss=Trace_ELBO())"
      ]
    },
    {
      "cell_type": "code",
      "execution_count": 157,
      "metadata": {
        "id": "xPLCFdAMX_mh"
      },
      "outputs": [],
      "source": [
        "def train(svi, train_loader, use_cuda=False):\n",
        "    # initialize loss accumulator\n",
        "    epoch_loss = 0.\n",
        "    # do a training epoch over each mini-batch x returned\n",
        "    # by the data loader\n",
        "    for x, _ in train_loader:\n",
        "        # if on GPU put mini-batch into CUDA memory\n",
        "        if use_cuda:\n",
        "            x = x.cuda()\n",
        "        # do ELBO gradient and accumulate loss\n",
        "        epoch_loss += svi.step(x)\n",
        "\n",
        "    # return epoch loss\n",
        "    normalizer_train = len(train_loader.dataset)\n",
        "    total_epoch_loss_train = epoch_loss / normalizer_train\n",
        "    return total_epoch_loss_train\n",
        "\n",
        "def evaluate(svi, test_loader, use_cuda=False):\n",
        "    # initialize loss accumulator\n",
        "    test_loss = 0.\n",
        "    # compute the loss over the entire test set\n",
        "    for x, _ in test_loader:\n",
        "        # if on GPU put mini-batch into CUDA memory\n",
        "        if use_cuda:\n",
        "            x = x.cuda()\n",
        "        # compute ELBO estimate and accumulate loss\n",
        "        test_loss += svi.evaluate_loss(x)\n",
        "    normalizer_test = len(test_loader.dataset)\n",
        "    total_epoch_loss_test = test_loss / normalizer_test\n",
        "    return total_epoch_loss_test"
      ]
    },
    {
      "cell_type": "code",
      "execution_count": 158,
      "metadata": {
        "id": "wowGvPW3X_mh"
      },
      "outputs": [],
      "source": [
        "# Run options\n",
        "LEARNING_RATE = 1.0e-3\n",
        "USE_CUDA = False\n",
        "\n",
        "# Run only for a single iteration for testing\n",
        "NUM_EPOCHS = 1 if smoke_test else 1\n",
        "TEST_FREQUENCY = 5"
      ]
    },
    {
      "cell_type": "code",
      "execution_count": 159,
      "metadata": {
        "id": "hYWZJCldX_mh"
      },
      "outputs": [],
      "source": [
        "train_loader, test_loader = setup_data_loaders(batch_size=256, use_cuda=USE_CUDA)"
      ]
    },
    {
      "cell_type": "code",
      "execution_count": 160,
      "metadata": {
        "id": "Rp7NwV-qX_mi"
      },
      "outputs": [],
      "source": [
        "# clear param store\n",
        "pyro.clear_param_store()\n",
        "\n",
        "# setup the VAE\n",
        "vae = VAE(use_cuda=USE_CUDA)\n",
        "\n",
        "# setup the optimizer\n",
        "adam_args = {\"lr\": LEARNING_RATE}\n",
        "optimizer = Adam(adam_args)\n",
        "\n",
        "# setup the inference algorithm\n",
        "svi = SVI(vae.model, vae.guide, optimizer, loss=Trace_ELBO())"
      ]
    },
    {
      "cell_type": "code",
      "source": [
        "train_elbo = []\n",
        "test_elbo = []\n",
        "# training loop\n",
        "for epoch in range(NUM_EPOCHS):\n",
        "    total_epoch_loss_train = train(svi, train_loader, use_cuda=USE_CUDA)\n",
        "    train_elbo.append(-total_epoch_loss_train)\n",
        "    print(\"[epoch %03d]  average training loss: %.4f\" % (epoch, total_epoch_loss_train))\n",
        "\n",
        "    if epoch % TEST_FREQUENCY == 0:\n",
        "        # report test diagnostics\n",
        "        total_epoch_loss_test = evaluate(svi, test_loader, use_cuda=USE_CUDA)\n",
        "        test_elbo.append(-total_epoch_loss_test)\n",
        "        print(\"[epoch %03d] average test loss: %.4f\" % (epoch, total_epoch_loss_test))"
      ],
      "metadata": {
        "colab": {
          "base_uri": "https://localhost:8080/"
        },
        "id": "wL52lDpSFG3G",
        "outputId": "12f7e82c-e016-4c55-d256-b2ab615c772d"
      },
      "execution_count": 161,
      "outputs": [
        {
          "output_type": "stream",
          "name": "stdout",
          "text": [
            "[epoch 000]  average training loss: 190.5000\n",
            "[epoch 000] average test loss: 155.4213\n"
          ]
        }
      ]
    },
    {
      "cell_type": "code",
      "source": [
        "# Loading the dataset\n",
        "tmnist_dataset = TMNISTDataset(\"https://raw.githubusercontent.com/prasadshreyas/CS7290-Causal-ML-PyTorch/main/data/TMNIST/TMNIST_Data.csv\", transform= transforms.ToTensor())\n",
        "\n",
        "\n",
        "# Creating data loader\n",
        "dataloader = DataLoader(tmnist_dataset, batch_size=256,\n",
        "                        shuffle=True)     \n",
        "\n",
        "# Building the image grid\n",
        "train_features, train_labels = next(iter(dataloader))\n",
        "\n",
        "print(f\"Feature batch shape: {train_features.size()}\") \n",
        "print(f\"Labels batch shape: {train_labels.size()}\")\n",
        "img = train_features[0].squeeze()\n",
        "label = train_labels[0]\n",
        "import matplotlib.pyplot as plt \n",
        "plt.imshow(img, cmap=\"gray\")\n",
        "plt.show()\n",
        "print(f\"Label: {label}\")"
      ],
      "metadata": {
        "id": "BH8agY7Tc-67",
        "outputId": "01d12912-a9bb-4271-8d63-8721e9f937dc",
        "colab": {
          "base_uri": "https://localhost:8080/",
          "height": 317
        }
      },
      "execution_count": 163,
      "outputs": [
        {
          "output_type": "stream",
          "name": "stdout",
          "text": [
            "Feature batch shape: torch.Size([256, 1, 28, 28])\n",
            "Labels batch shape: torch.Size([256])\n"
          ]
        },
        {
          "output_type": "display_data",
          "data": {
            "text/plain": [
              "<Figure size 432x288 with 1 Axes>"
            ],
            "image/png": "[encoded data removed]"
          },
          "metadata": {
            "needs_background": "light"
          }
        },
        {
          "output_type": "stream",
          "name": "stdout",
          "text": [
            "Label: 8\n"
          ]
        }
      ]
    },
    {
      "cell_type": "markdown",
      "source": [
        "------------"
      ],
      "metadata": {
        "id": "wClhB4PXII_3"
      }
    },
    {
      "cell_type": "markdown",
      "source": [
        "**Test Cases:**\n",
        "\n",
        "- ~torch.shape~\n",
        "- ~Learning rate too high~\n",
        "- ~If using integers as targets, makes sure they aren't symmetrical at 0.~\n",
        "- ~GPU, CPU, TPU~\n",
        "- ~assert not np.any(np.isnan(x)) on input~\n",
        "- ~Data normalization~\n",
        "-  ~Inspect pyro.sample~\n",
        "**Compare MNIST vs TMNIST**\n",
        "- Check DataType\n",
        "- ~The labels must be in the domain of the loss function, so if using a logarithmic-based loss function all labels must be non-negative~\n",
        "- ~Use LogNormal~\n",
        "- ZeroDivision\n",
        "\n",
        "\n",
        "\n"
      ],
      "metadata": {
        "id": "KxZTlfGBZQ_P"
      }
    }
  ],
  "metadata": {
    "interpreter": {
      "hash": "44aac8fa55270aab16cf28b0bf1e5c8bf3de462e9a8a50d0b321a892ef2c99fa"
    },
    "kernelspec": {
      "display_name": "Python 3.9.7",
      "language": "python",
      "name": "python3"
    },
    "language_info": {
      "codemirror_mode": {
        "name": "ipython",
        "version": 3
      },
      "file_extension": ".py",
      "mimetype": "text/x-python",
      "name": "python",
      "nbconvert_exporter": "python",
      "pygments_lexer": "ipython3",
      "version": "3.9.7"
    },
    "orig_nbformat": 4,
    "colab": {
      "name": "progress.ipynb",
      "provenance": [],
      "machine_shape": "hm"
    },
    "accelerator": "TPU",
    "gpuClass": "standard"
  },
  "nbformat": 4,
  "nbformat_minor": 0
}