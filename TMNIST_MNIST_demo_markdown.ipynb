{
  "nbformat": 4,
  "nbformat_minor": 0,
  "metadata": {
    "colab": {
      "name": "TMNIST_MNIST_demo_markdown.ipynb",
      "provenance": [],
      "authorship_tag": "ABX9TyPdpwyEv0D/uvutx15DZuGg",
      "include_colab_link": true
    },
    "kernelspec": {
      "name": "python3",
      "display_name": "Python 3"
    },
    "language_info": {
      "name": "python"
    }
  },
  "cells": [
    {
      "cell_type": "markdown",
      "metadata": {
        "id": "view-in-github",
        "colab_type": "text"
      },
      "source": [
        "<a href=\"https://colab.research.google.com/github/prasadshreyas/CS7290-Causal-ML-PyTorch/blob/main/TMNIST_MNIST_demo_markdown.ipynb\" target=\"_parent\"><img src=\"https://colab.research.google.com/assets/colab-badge.svg\" alt=\"Open In Colab\"/></a>"
      ]
    },
    {
      "cell_type": "markdown",
      "source": [
        "# Importing the libraries\n",
        "```python\n",
        "\n",
        "import torch\n",
        "import pandas as pd\n",
        "import numpy as np\n",
        "from torch.utils.data import Dataset, DataLoader\n",
        "from torchvision import transforms\n",
        "import os\n",
        "from torchvision.transforms import ToTensor, Lambda\n",
        "\n",
        "from pyro.contrib.examples.util import MNIST\n",
        "import torch.nn as nn\n",
        "import torchvision.transforms as transforms\n",
        "\n",
        "import pyro\n",
        "import pyro.distributions as dist\n",
        "import pyro.contrib.examples.util  \n",
        "from pyro.infer import SVI, Trace_ELBO\n",
        "from pyro.optim import Adam\n",
        "```\n",
        "\n",
        "\n",
        "```python\n",
        "assert pyro.__version__.startswith('1.8.1') # make sure we have Pyro 1.8.1\n",
        "pyro.distributions.enable_validation(False) \n",
        "pyro.set_rng_seed(0) # make results reproducible\n",
        "# Enable smoke test - run the notebook cells on CI.\n",
        "smoke_test = 'CI' in os.environ \n",
        "\n",
        "```"
      ],
      "metadata": {
        "id": "eh2STq5aDbZy"
      }
    },
    {
      "cell_type": "markdown",
      "source": [
        "A custom dataloader for T-MNIST Dataset. [link](https://raw.githubusercontent.com/prasadshreyas/CS7290-Causal-ML-PyTorch/main/data/TMNIST/TMNIST_Data.csv)\n",
        "\n",
        "```python\n",
        "\n",
        "class TMNISTDataset(Dataset):\n",
        "    '''\n",
        "    Typeface MNIST Dataset\n",
        "\n",
        "    Input: 'path/to/csv/file' (Required)\n",
        "    Output: torch.utils.data.Dataset\n",
        "    \n",
        "    '''\n",
        "    def __init__(self, csv_file, root_dir='', transform=None, target_transform = Lambda(lambda y: torch.zeros(\n",
        "    10, dtype=torch.float).scatter_(dim=0, index=torch.tensor(y), value=1))):\n",
        "        '''\n",
        "        Args: csv_file (string): Path to the csv file with annotations.    \n",
        "        '''\n",
        "        self.tmnist_frame = pd.read_csv(csv_file) # read the csv file\n",
        "        self.transform = transform # transform the data\n",
        "        self.root_dir = root_dir \n",
        "        self.target_transform = target_transform # transform the target into one-hot vector of size 10\n",
        "    \n",
        "    def __len__(self):\n",
        "        return len(self.tmnist_frame) # return the length of the dataset\n",
        "    \n",
        "    def __getitem__(self, idx):\n",
        "        if torch.is_tensor(idx):\n",
        "            idx = idx.tolist() # if the index is tensor, convert it to list\n",
        "        \n",
        "        digits = self.tmnist_frame.iloc[idx, 2:] # get the digits from the csv file\n",
        "        digits = np.array([digits])/255 # normalize the digits\n",
        "        digits = digits.reshape(28,28) # reshape the digits to 28x28 as the original MNIST dataset does\n",
        "        digits = digits.astype('float32') \n",
        "        \n",
        "        label = self.tmnist_frame.iloc[idx , 1]\n",
        "        label = np.array([label]) # get the label from the csv file\n",
        "        label = label.astype('int')\n",
        "        \n",
        "        # is_hand is a boolean variable which is True if the digit is hand written and False if it is not.\n",
        "        # Since, we are using TMNIST, we will set is_hand to False (0)\n",
        "        is_hand = np.array([0]) \n",
        "        is_hand = hand.astype('int')\n",
        "\n",
        "        if self.transform:\n",
        "            digits = self.transform(digits)\n",
        "        return digits, int(label.squeeze()), int(is_hand.squeeze()) # return the digits and the label\n",
        "\n",
        "```"
      ],
      "metadata": {
        "id": "7p01hX2LD2nd"
      }
    },
    {
      "cell_type": "code",
      "execution_count": null,
      "metadata": {
        "id": "ynCbMJj_DK_u"
      },
      "outputs": [],
      "source": [
        ""
      ]
    }
  ]
}